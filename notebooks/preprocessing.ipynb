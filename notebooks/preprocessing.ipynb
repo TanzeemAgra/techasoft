{
 "cells": [
  {
   "cell_type": "code",
   "execution_count": 13,
   "id": "5b3b7cb3",
   "metadata": {},
   "outputs": [],
   "source": [
    "import pandas as pd\n",
    "import numpy as np"
   ]
  },
  {
   "cell_type": "code",
   "execution_count": 14,
   "id": "696f2a58",
   "metadata": {},
   "outputs": [],
   "source": [
    "df = pd.read_csv(\"../data/raw/insurance.csv\")"
   ]
  },
  {
   "cell_type": "code",
   "execution_count": 15,
   "id": "f9b0baa2",
   "metadata": {},
   "outputs": [
    {
     "name": "stderr",
     "output_type": "stream",
     "text": [
      "C:\\Users\\Xerxez Solutions\\AppData\\Local\\Temp\\ipykernel_22428\\3759134153.py:1: FutureWarning: A value is trying to be set on a copy of a DataFrame or Series through chained assignment using an inplace method.\n",
      "The behavior will change in pandas 3.0. This inplace method will never work because the intermediate object on which we are setting values always behaves as a copy.\n",
      "\n",
      "For example, when doing 'df[col].method(value, inplace=True)', try using 'df.method({col: value}, inplace=True)' or df[col] = df[col].method(value) instead, to perform the operation inplace on the original object.\n",
      "\n",
      "\n",
      "  df.sex.replace(('female','male'),(0,1), inplace=True)\n",
      "C:\\Users\\Xerxez Solutions\\AppData\\Local\\Temp\\ipykernel_22428\\3759134153.py:1: FutureWarning: Downcasting behavior in `replace` is deprecated and will be removed in a future version. To retain the old behavior, explicitly call `result.infer_objects(copy=False)`. To opt-in to the future behavior, set `pd.set_option('future.no_silent_downcasting', True)`\n",
      "  df.sex.replace(('female','male'),(0,1), inplace=True)\n"
     ]
    }
   ],
   "source": [
    "df.sex.replace(('female','male'),(0,1), inplace=True)"
   ]
  },
  {
   "cell_type": "code",
   "execution_count": 16,
   "id": "7fb0e5c1",
   "metadata": {},
   "outputs": [
    {
     "name": "stderr",
     "output_type": "stream",
     "text": [
      "C:\\Users\\Xerxez Solutions\\AppData\\Local\\Temp\\ipykernel_22428\\3094902186.py:1: FutureWarning: A value is trying to be set on a copy of a DataFrame or Series through chained assignment using an inplace method.\n",
      "The behavior will change in pandas 3.0. This inplace method will never work because the intermediate object on which we are setting values always behaves as a copy.\n",
      "\n",
      "For example, when doing 'df[col].method(value, inplace=True)', try using 'df.method({col: value}, inplace=True)' or df[col] = df[col].method(value) instead, to perform the operation inplace on the original object.\n",
      "\n",
      "\n",
      "  df.smoker.replace(('no','yes'),(0,1), inplace=True)\n",
      "C:\\Users\\Xerxez Solutions\\AppData\\Local\\Temp\\ipykernel_22428\\3094902186.py:1: FutureWarning: Downcasting behavior in `replace` is deprecated and will be removed in a future version. To retain the old behavior, explicitly call `result.infer_objects(copy=False)`. To opt-in to the future behavior, set `pd.set_option('future.no_silent_downcasting', True)`\n",
      "  df.smoker.replace(('no','yes'),(0,1), inplace=True)\n"
     ]
    }
   ],
   "source": [
    "df.smoker.replace(('no','yes'),(0,1), inplace=True)"
   ]
  },
  {
   "cell_type": "code",
   "execution_count": 17,
   "id": "6c3e16c7",
   "metadata": {},
   "outputs": [],
   "source": [
    "df[\"region\"] = [0 if i==\"southwest\" else\n",
    "                1 if i==\"southeast\" else\n",
    "                2 if i==\"northwest\" else\n",
    "                3 for i in df[\"region\"]]"
   ]
  },
  {
   "cell_type": "code",
   "execution_count": 18,
   "id": "4a3682fc",
   "metadata": {},
   "outputs": [],
   "source": [
    "df.to_csv('../data/external/insurance_clean.csv', mode='w', index=False)"
   ]
  },
  {
   "cell_type": "code",
   "execution_count": null,
   "id": "ff1db93f",
   "metadata": {},
   "outputs": [],
   "source": []
  }
 ],
 "metadata": {
  "kernelspec": {
   "display_name": ".venv (3.11.9)",
   "language": "python",
   "name": "python3"
  },
  "language_info": {
   "codemirror_mode": {
    "name": "ipython",
    "version": 3
   },
   "file_extension": ".py",
   "mimetype": "text/x-python",
   "name": "python",
   "nbconvert_exporter": "python",
   "pygments_lexer": "ipython3",
   "version": "3.11.9"
  }
 },
 "nbformat": 4,
 "nbformat_minor": 5
}
